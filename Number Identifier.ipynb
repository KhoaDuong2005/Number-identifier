{
 "cells": [
  {
   "cell_type": "code",
   "execution_count": 1,
   "id": "75c478ec-5bdb-446e-83ab-9a469a4be935",
   "metadata": {},
   "outputs": [],
   "source": [
    "import numpy as np \n",
    "import pandas as pd\n",
    "import torch \n",
    "import torch.nn as nn\n",
    "import tensorflow as tf\n",
    "import pandas as pd\n",
    "from torch.utils.data import DataLoader , Dataset"
   ]
  },
  {
   "cell_type": "code",
   "execution_count": 2,
   "id": "0496441d-2b7e-4635-984d-02c8165c7b29",
   "metadata": {},
   "outputs": [
    {
     "name": "stdout",
     "output_type": "stream",
     "text": [
      "Downloading data from https://storage.googleapis.com/tensorflow/tf-keras-datasets/mnist.npz\n",
      "\u001b[1m11490434/11490434\u001b[0m \u001b[32m━━━━━━━━━━━━━━━━━━━━\u001b[0m\u001b[37m\u001b[0m \u001b[1m3s\u001b[0m 0us/step\n"
     ]
    },
    {
     "data": {
      "text/plain": [
       "((60000, 784), (60000,), (10000, 784), (10000,), (60000,))"
      ]
     },
     "execution_count": 2,
     "metadata": {},
     "output_type": "execute_result"
    }
   ],
   "source": [
    "# Import minist dataset\n",
    "(x_train ,y_train ),(x_test  , y_test) = tf.keras.datasets.mnist.load_data()\n",
    "x_train = x_train.reshape(60000 , 784)\n",
    "x_test = x_test.reshape(10000 , 784)\n",
    "x_train.shape , y_train.shape , x_test.shape , y_test.shape , y_train.shape"
   ]
  },
  {
   "cell_type": "code",
   "execution_count": 9,
   "id": "768d16e7-d048-4d51-a548-8b0411262264",
   "metadata": {},
   "outputs": [
    {
     "name": "stdout",
     "output_type": "stream",
     "text": [
      "using device cuda\n"
     ]
    }
   ],
   "source": [
    "torch.cuda.is_available()\n",
    "\n",
    "# make gpu as device\n",
    "device = torch.device(\"cuda\")\n",
    "print(f\"using device {device}\")"
   ]
  },
  {
   "cell_type": "code",
   "execution_count": 10,
   "id": "9c8fa03e-8b7a-4b6c-8df4-45a9bc4fff9c",
   "metadata": {},
   "outputs": [],
   "source": [
    "# Converting into Tensors for Pytorch\n",
    "\n",
    "x_train = np.array(x_train)\n",
    "x_test = np.array(x_test)\n",
    "y_test = np.array(y_test)\n",
    "y_train = np.array(y_train)\n",
    "\n",
    "x_train = torch.from_numpy(x_train)\n",
    "x_test = torch.from_numpy(x_test)\n",
    "y_train = torch.from_numpy(y_train)\n",
    "y_test = torch.from_numpy(y_test)"
   ]
  },
  {
   "cell_type": "code",
   "execution_count": 11,
   "id": "1e9a6f83-c195-4366-ba8e-268ce0a9773a",
   "metadata": {},
   "outputs": [],
   "source": [
    "# Create optimize class\n",
    "import torch.optim as opt\n",
    "\n",
    "class NeuralNetwork(nn.Module):\n",
    "    def __init__(self , feature_count):\n",
    "        super().__init__()\n",
    "        self.network = nn.Sequential(\n",
    "            nn.Linear(feature_count , 256 , bias= True),\n",
    "            nn.ReLU(),\n",
    "            nn.Linear(256 , 128 , bias= True),\n",
    "            nn.ReLU(),\n",
    "            nn.Linear(128 , 64 ),\n",
    "            nn.ReLU(),\n",
    "            nn.Linear(64 , 10),\n",
    "        )\n",
    "        \n",
    "    def forward(self , features):\n",
    "        out = self.network(features)\n",
    "        return out"
   ]
  },
  {
   "cell_type": "code",
   "execution_count": 12,
   "id": "aaccce9f-ea0b-4b32-a52c-aef30abb99fe",
   "metadata": {},
   "outputs": [],
   "source": [
    "# Create Dataset class\n",
    "class CustomeDataset(Dataset):\n",
    "    def __init__(self, featues , lables):\n",
    "        \n",
    "        self.features = featues.to(dtype = torch.float32)\n",
    "        self.features = self.features/255\n",
    "        self.labels = lables.to(dtype = torch.long)\n",
    "    \n",
    "    def __len__(self):\n",
    "        return self.features.shape[0]\n",
    "    \n",
    "    def __getitem__(self , index):\n",
    "        return self.features[index] , self.labels[index]"
   ]
  },
  {
   "cell_type": "code",
   "execution_count": 13,
   "id": "62733595-88e9-4dde-9abd-862ef8227610",
   "metadata": {},
   "outputs": [],
   "source": [
    "batch_size = 16\n",
    "lr = 0.01\n",
    "epochs = 20"
   ]
  },
  {
   "cell_type": "code",
   "execution_count": 14,
   "id": "5a63f9bd-de13-4753-b913-463879facc31",
   "metadata": {},
   "outputs": [],
   "source": [
    "dataset_train = CustomeDataset(x_train , y_train)\n",
    "dataloder_train = DataLoader(dataset_train , shuffle= True , batch_size= batch_size)\n",
    "\n",
    "# Model\n",
    "model = NeuralNetwork(x_train.shape[1])\n",
    "model = model.to(device)\n",
    "\n",
    "loss_function = nn.CrossEntropyLoss()\n",
    "opti = opt.Adam(model.parameters() , lr = lr)"
   ]
  },
  {
   "cell_type": "code",
   "execution_count": 15,
   "id": "d965419e-bf02-49e0-8947-2e6869783720",
   "metadata": {},
   "outputs": [
    {
     "data": {
      "text/plain": [
       "torch.Size([60000, 784])"
      ]
     },
     "execution_count": 15,
     "metadata": {},
     "output_type": "execute_result"
    }
   ],
   "source": [
    "x_train.shape"
   ]
  },
  {
   "cell_type": "code",
   "execution_count": null,
   "id": "ab59464b-2037-4519-9aeb-3876d2966327",
   "metadata": {},
   "outputs": [
    {
     "name": "stdout",
     "output_type": "stream",
     "text": [
      "Epoch : 1 , Loss : 0.352196095780549\n",
      "Epoch : 2 , Loss : 0.25598800998937804\n",
      "Epoch : 3 , Loss : 0.21991362899654293\n",
      "Epoch : 4 , Loss : 0.2001877747671429\n",
      "Epoch : 5 , Loss : 0.17312541945756407\n",
      "Epoch : 6 , Loss : 0.1877637961169802\n",
      "Epoch : 7 , Loss : 0.15920141355254466\n"
     ]
    }
   ],
   "source": [
    "for epoch in range(epochs):\n",
    "    total_epoch_loss = 0\n",
    "    \n",
    "    for train_features , train_lables in dataloder_train:\n",
    "\n",
    "        train_features , train_lables = train_features.to(device) , train_lables.to(device)\n",
    "        # forward pass\n",
    "        y_pred = model(train_features)\n",
    "        \n",
    "        # find hte loss\n",
    "        loss = loss_function(y_pred , train_lables)\n",
    "        \n",
    "        # reset gradient to zero\n",
    "        opti.zero_grad()\n",
    "         \n",
    "        # backpropgation\n",
    "        loss.backward()\n",
    "        \n",
    "        # paramter updates\n",
    "        opti.step()\n",
    "        \n",
    "        total_epoch_loss += loss.item()\n",
    "    \n",
    "    print(f\"Epoch : {epoch+1} , Loss : {total_epoch_loss/len(dataloder_train)}\")"
   ]
  },
  {
   "cell_type": "code",
   "execution_count": null,
   "id": "ac2113de-ccec-48cd-aa3c-89e16bf580b7",
   "metadata": {},
   "outputs": [],
   "source": []
  }
 ],
 "metadata": {
  "kernelspec": {
   "display_name": "Python 3 (ipykernel)",
   "language": "python",
   "name": "python3"
  },
  "language_info": {
   "codemirror_mode": {
    "name": "ipython",
    "version": 3
   },
   "file_extension": ".py",
   "mimetype": "text/x-python",
   "name": "python",
   "nbconvert_exporter": "python",
   "pygments_lexer": "ipython3",
   "version": "3.12.6"
  }
 },
 "nbformat": 4,
 "nbformat_minor": 5
}
